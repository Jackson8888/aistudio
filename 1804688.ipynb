{
 "cells": [
  {
   "cell_type": "markdown",
   "metadata": {
    "collapsed": false
   },
   "source": [
    "# 简介\n",
    "本项目是参加飞桨常规赛：中文场景文字识别的项目。\n",
    "生成的预测文件为work/PaddleOCR中的test2.txt文件\n",
    "\n",
    "项目任务为识别包含中文文字的街景图片，准确识别图片中的文字\n",
    "\n",
    "本项目源于https://aistudio.baidu.com/aistudio/projectdetail/615795，在此基础上进行修改\n",
    "\n",
    "感谢开发者为开源社区做出的贡献\n",
    "\n",
    "修改训练的模型的超参进行训练，通过实验进行验证。"
   ]
  },
  {
   "cell_type": "markdown",
   "metadata": {
    "collapsed": false
   },
   "source": [
    "# 赛题说明\n",
    "**赛题背景**\n",
    "\n",
    "中文场景文字识别技术在人们的日常生活中受到广泛关注，具有丰富的应用场景，如：拍照翻译、图像检索、场景理解等。然而，中文场景中的文字面临着包括光照变化、低分辨率、字体以及排布多样性、中文字符种类多等复杂情况。如何解决上述问题成为一项极具挑战性的任务。\n",
    "\n",
    "本次飞桨常规赛以 中文场景文字识别 为主题，由2019第二届中国AI+创新创业全国大赛降低难度而来，提供大规模的中文场景文字识别数据，旨在为研究者提供学术交流平台，进一步推动中文场景文字识别算法与技术的突破。\n",
    "\n",
    "**比赛任务**\n",
    "\n",
    "要求选手必须使用飞桨对图像区域中的文字行进行预测，返回文字行的内容。\n",
    "\n",
    "**数据集介绍**\n",
    "\n",
    "本次竞赛数据集共包括33万张图片，其中21万张图片作为训练集，12万张作为测试集。数据集采自中国街景，并由街景图片中的文字行区域（例如店铺标牌、地标等等）截取出来而形成。所有图像都经过一些预处理，将文字区域利用仿射变化，等比映射为一张高为48像素的图片，如下图1所示：\n",
    "\n",
    "![](https://ai-studio-static-online.cdn.bcebos.com/fb3cf59747e04f0cb9adde6a5a1945b3d9ef82f3b7c14c98bf248eb1c3886a3f)\n",
    "\n",
    "\n",
    "(a) 标注：魅派集成吊顶\n",
    "\n",
    "![](https://ai-studio-static-online.cdn.bcebos.com/57d58a35e1f34278bdb013b3f945ab69cddacf37c7fe40deba3c124fa1249753)\n",
    "\n",
    "\n",
    "(b) 标注：母婴用品连锁\n",
    "图1\n",
    "\n",
    "**标注文件**\n",
    "\n",
    "平台提供的标注文件为.txt文件格式。样例如下：\n",
    "\n",
    "\n",
    "\n",
    "| h | w | name | value |\n",
    "| -------- | -------- | -------- |-------- |\n",
    "| 128 | 48 | img_1.jpg | 文本1|\n",
    "| 56\t| 48\t| img_2.jpg|\t文本2|\n",
    "其中，文件中的四列分别是图片的宽、高、文件名和文字标注。"
   ]
  },
  {
   "cell_type": "markdown",
   "metadata": {
    "collapsed": false
   },
   "source": [
    "# 安装第三方库\n",
    "\n",
    "将安装目录设置为external-libraries，这样项目重启后安装的库不会消失。"
   ]
  },
  {
   "cell_type": "code",
   "execution_count": null,
   "metadata": {
    "collapsed": false
   },
   "outputs": [
    {
     "name": "stdout",
     "output_type": "stream",
     "text": [
      "mkdir: cannot create directory ‘/home/aistudio/external-libraries’: File exists\n",
      "Looking in indexes: https://mirror.baidu.com/pypi/simple\n",
      "Requirement already satisfied: tqdm in /opt/conda/envs/python35-paddle120-env/lib/python3.7/site-packages (4.36.1)\n",
      "Collecting paddlepaddle-gpu==1.7.1.post97\n",
      "\u001b[?25l  Downloading https://mirror.baidu.com/pypi/packages/31/b0/54f9450eb71a23aad0edf69d52423529a09dcc4c0ffa650ff5ba1feb0572/paddlepaddle_gpu-1.7.1.post97-cp37-cp37m-manylinux1_x86_64.whl (251.6MB)\n",
      "\u001b[K     |████████████████████████████████| 251.6MB 136kB/s  eta 0:00:01    |█████████                       | 70.4MB 8.9MB/s eta 0:00:21     |████████████████████████▉       | 195.3MB 9.0MB/s eta 0:00:07\n",
      "\u001b[?25hRequirement already satisfied: opencv-python in /opt/conda/envs/python35-paddle120-env/lib/python3.7/site-packages (from paddlepaddle-gpu==1.7.1.post97) (4.1.1.26)\n",
      "Requirement already satisfied: rarfile in /opt/conda/envs/python35-paddle120-env/lib/python3.7/site-packages (from paddlepaddle-gpu==1.7.1.post97) (3.1)\n",
      "Requirement already satisfied: prettytable in /opt/conda/envs/python35-paddle120-env/lib/python3.7/site-packages (from paddlepaddle-gpu==1.7.1.post97) (0.7.2)\n",
      "Requirement already satisfied: nltk; python_version >= \"3.5\" in /opt/conda/envs/python35-paddle120-env/lib/python3.7/site-packages (from paddlepaddle-gpu==1.7.1.post97) (3.4.5)\n",
      "Requirement already satisfied: graphviz in /opt/conda/envs/python35-paddle120-env/lib/python3.7/site-packages (from paddlepaddle-gpu==1.7.1.post97) (0.13)\n",
      "Requirement already satisfied: matplotlib; python_version >= \"3.6\" in /opt/conda/envs/python35-paddle120-env/lib/python3.7/site-packages (from paddlepaddle-gpu==1.7.1.post97) (2.2.3)\n",
      "Requirement already satisfied: scipy<=1.3.1; python_version >= \"3.5\" in /opt/conda/envs/python35-paddle120-env/lib/python3.7/site-packages (from paddlepaddle-gpu==1.7.1.post97) (1.3.0)\n",
      "Requirement already satisfied: requests>=2.20.0 in /opt/conda/envs/python35-paddle120-env/lib/python3.7/site-packages (from paddlepaddle-gpu==1.7.1.post97) (2.22.0)\n",
      "Requirement already satisfied: funcsigs in /opt/conda/envs/python35-paddle120-env/lib/python3.7/site-packages (from paddlepaddle-gpu==1.7.1.post97) (1.0.2)\n",
      "Requirement already satisfied: Pillow in /opt/conda/envs/python35-paddle120-env/lib/python3.7/site-packages (from paddlepaddle-gpu==1.7.1.post97) (6.2.0)\n",
      "Requirement already satisfied: protobuf>=3.1.0 in /opt/conda/envs/python35-paddle120-env/lib/python3.7/site-packages (from paddlepaddle-gpu==1.7.1.post97) (3.10.0)\n",
      "Requirement already satisfied: decorator in /opt/conda/envs/python35-paddle120-env/lib/python3.7/site-packages (from paddlepaddle-gpu==1.7.1.post97) (4.4.0)\n",
      "Requirement already satisfied: objgraph in /opt/conda/envs/python35-paddle120-env/lib/python3.7/site-packages (from paddlepaddle-gpu==1.7.1.post97) (3.4.1)\n",
      "Requirement already satisfied: pyyaml in /opt/conda/envs/python35-paddle120-env/lib/python3.7/site-packages (from paddlepaddle-gpu==1.7.1.post97) (5.1.2)\n",
      "Requirement already satisfied: six in /opt/conda/envs/python35-paddle120-env/lib/python3.7/site-packages (from paddlepaddle-gpu==1.7.1.post97) (1.12.0)\n",
      "Requirement already satisfied: numpy>=1.12; python_version >= \"3.5\" in /opt/conda/envs/python35-paddle120-env/lib/python3.7/site-packages (from paddlepaddle-gpu==1.7.1.post97) (1.16.4)\n",
      "Requirement already satisfied: pyparsing!=2.0.4,!=2.1.2,!=2.1.6,>=2.0.1 in /opt/conda/envs/python35-paddle120-env/lib/python3.7/site-packages (from matplotlib; python_version >= \"3.6\"->paddlepaddle-gpu==1.7.1.post97) (2.4.2)\n",
      "Requirement already satisfied: kiwisolver>=1.0.1 in /opt/conda/envs/python35-paddle120-env/lib/python3.7/site-packages (from matplotlib; python_version >= \"3.6\"->paddlepaddle-gpu==1.7.1.post97) (1.1.0)\n",
      "Requirement already satisfied: cycler>=0.10 in /opt/conda/envs/python35-paddle120-env/lib/python3.7/site-packages (from matplotlib; python_version >= \"3.6\"->paddlepaddle-gpu==1.7.1.post97) (0.10.0)\n",
      "Requirement already satisfied: python-dateutil>=2.1 in /opt/conda/envs/python35-paddle120-env/lib/python3.7/site-packages (from matplotlib; python_version >= \"3.6\"->paddlepaddle-gpu==1.7.1.post97) (2.8.0)\n",
      "Requirement already satisfied: pytz in /opt/conda/envs/python35-paddle120-env/lib/python3.7/site-packages (from matplotlib; python_version >= \"3.6\"->paddlepaddle-gpu==1.7.1.post97) (2019.3)\n",
      "Requirement already satisfied: idna<2.9,>=2.5 in /opt/conda/envs/python35-paddle120-env/lib/python3.7/site-packages (from requests>=2.20.0->paddlepaddle-gpu==1.7.1.post97) (2.8)\n",
      "Requirement already satisfied: certifi>=2017.4.17 in /opt/conda/envs/python35-paddle120-env/lib/python3.7/site-packages (from requests>=2.20.0->paddlepaddle-gpu==1.7.1.post97) (2019.9.11)\n",
      "Requirement already satisfied: chardet<3.1.0,>=3.0.2 in /opt/conda/envs/python35-paddle120-env/lib/python3.7/site-packages (from requests>=2.20.0->paddlepaddle-gpu==1.7.1.post97) (3.0.4)\n",
      "Requirement already satisfied: urllib3!=1.25.0,!=1.25.1,<1.26,>=1.21.1 in /opt/conda/envs/python35-paddle120-env/lib/python3.7/site-packages (from requests>=2.20.0->paddlepaddle-gpu==1.7.1.post97) (1.25.6)\n",
      "Requirement already satisfied: setuptools in /opt/conda/envs/python35-paddle120-env/lib/python3.7/site-packages (from protobuf>=3.1.0->paddlepaddle-gpu==1.7.1.post97) (41.4.0)\n",
      "Installing collected packages: paddlepaddle-gpu\n",
      "  Found existing installation: paddlepaddle-gpu 1.6.2.post97\n",
      "    Uninstalling paddlepaddle-gpu-1.6.2.post97:\n",
      "      Successfully uninstalled paddlepaddle-gpu-1.6.2.post97\n",
      "Successfully installed paddlepaddle-gpu-1.7.1.post97\n",
      "Looking in indexes: https://pypi.mirrors.ustc.edu.cn/simple/\n",
      "Collecting pqi\n",
      "  Downloading https://mirrors.bfsu.edu.cn/pypi/web/packages/33/a0/c446aed3d2a2aee6603baa430979c402859821a9bf02c23f59500171c9d2/pqi-2.0.6.tar.gz\n",
      "Collecting docopt (from pqi)\n",
      "  Downloading https://mirrors.bfsu.edu.cn/pypi/web/packages/a2/55/8f8cab2afd404cf578136ef2cc5dfb50baa1761b68c9da1fb1e4eed343c9/docopt-0.6.2.tar.gz\n",
      "Building wheels for collected packages: pqi, docopt\n",
      "  Building wheel for pqi (setup.py) ... \u001b[?25ldone\n",
      "\u001b[?25h  Created wheel for pqi: filename=pqi-2.0.6-cp37-none-any.whl size=4442 sha256=702ae86a214bc207575895558e6456f81000a1c6a7aa4029d9351b2fa86b1442\n",
      "  Stored in directory: /home/aistudio/.cache/pip/wheels/54/76/37/bfae74b1d9f2b553cb45117a492ba3f567381e4f3ae307b5f6\n",
      "  Building wheel for docopt (setup.py) ... \u001b[?25ldone\n",
      "\u001b[?25h  Created wheel for docopt: filename=docopt-0.6.2-py2.py3-none-any.whl size=13704 sha256=dabfa5b82b3a141364fd95919f2aa2c2a1116c9fccb1818059977473c2b43f76\n",
      "  Stored in directory: /home/aistudio/.cache/pip/wheels/51/86/5e/aca8b65bdc4038d6012e3bc45c33f438ec33a8582d8f2a7fbb\n",
      "Successfully built pqi docopt\n",
      "Installing collected packages: docopt, pqi\n",
      "Successfully installed docopt-0.6.2 pqi-2.0.6\n",
      "\n",
      "Source is changed to aliyun(https://mirrors.aliyun.com/pypi/simple/).\n",
      "\n",
      "Looking in indexes: https://mirrors.aliyun.com/pypi/simple/\n",
      "Requirement already satisfied: tqdm in /opt/conda/envs/python35-paddle120-env/lib/python3.7/site-packages (4.36.1)\n",
      "Collecting imgaug\n",
      "\u001b[?25l  Downloading https://mirrors.aliyun.com/pypi/packages/66/b1/af3142c4a85cba6da9f4ebb5ff4e21e2616309552caca5e8acefe9840622/imgaug-0.4.0-py2.py3-none-any.whl (948kB)\n",
      "\u001b[K     |████████████████████████████████| 952kB 2.9MB/s eta 0:00:01\n",
      "\u001b[?25hCollecting lmdb\n",
      "\u001b[?25l  Downloading https://mirrors.aliyun.com/pypi/packages/2e/dd/ada2fd91cd7832979069c556607903f274470c3d3d2274e0a848908272e8/lmdb-1.2.1-cp37-cp37m-manylinux2010_x86_64.whl (299kB)\n",
      "\u001b[K     |████████████████████████████████| 307kB 6.8MB/s eta 0:00:01\n",
      "\u001b[?25hRequirement already satisfied: matplotlib in /opt/conda/envs/python35-paddle120-env/lib/python3.7/site-packages (2.2.3)\n",
      "Requirement already satisfied: opencv-python in /opt/conda/envs/python35-paddle120-env/lib/python3.7/site-packages (4.1.1.26)\n",
      "Requirement already satisfied: Pillow in /opt/conda/envs/python35-paddle120-env/lib/python3.7/site-packages (6.2.0)\n",
      "Collecting python-Levenshtein\n",
      "\u001b[?25l  Downloading https://mirrors.aliyun.com/pypi/packages/2a/dc/97f2b63ef0fa1fd78dcb7195aca577804f6b2b51e712516cc0e902a9a201/python-Levenshtein-0.12.2.tar.gz (50kB)\n",
      "\u001b[K     |████████████████████████████████| 51kB 44.4MB/s eta 0:00:01\n",
      "\u001b[?25hRequirement already satisfied: PyYAML in /opt/conda/envs/python35-paddle120-env/lib/python3.7/site-packages (5.1.2)\n",
      "Collecting trdg\n",
      "\u001b[?25l  Downloading https://mirrors.aliyun.com/pypi/packages/76/55/4ce0f6e928200d3fe8460638346dcd2916d7aac33c7ebebbfec2b5eb7972/trdg-1.7.0-py3-none-any.whl (91.2MB)\n",
      "\u001b[K     |████████████████████████████████| 91.2MB 6.3MB/s eta 0:00:01     |█████████████████████           | 60.1MB 1.3MB/s eta 0:00:25     |███████████████████████████▉    | 79.2MB 8.0MB/s eta 0:00:02\n",
      "\u001b[?25hCollecting anyconfig\n",
      "\u001b[?25l  Downloading https://mirrors.aliyun.com/pypi/packages/b2/44/d8bac632c0ad506933f4b9fd34a495efcc81c01ffdb468dcd0c0f0d4cbab/anyconfig-0.10.1-py2.py3-none-any.whl (64kB)\n",
      "\u001b[K     |████████████████████████████████| 71kB 3.3MB/s eta 0:00:011\n",
      "\u001b[?25hCollecting scikit-image>=0.14.2 (from imgaug)\n",
      "\u001b[?25l  Downloading https://mirrors.aliyun.com/pypi/packages/fe/01/3a830f3df578ea3ed94ee7fd9f91e85c3dec2431d8548ab1c91869e51450/scikit_image-0.18.1-cp37-cp37m-manylinux1_x86_64.whl (29.2MB)\n",
      "\u001b[K     |████████████████████████████████| 29.2MB 5.9MB/s eta 0:00:01     |██████████████████████▉         | 20.8MB 5.7MB/s eta 0:00:02\n",
      "\u001b[?25hRequirement already satisfied: six in /opt/conda/envs/python35-paddle120-env/lib/python3.7/site-packages (from imgaug) (1.12.0)\n",
      "Collecting Shapely (from imgaug)\n",
      "\u001b[?25l  Downloading https://mirrors.aliyun.com/pypi/packages/98/f8/db4d3426a1aba9d5dfcc83ed5a3e2935d2b1deb73d350642931791a61c37/Shapely-1.7.1-cp37-cp37m-manylinux1_x86_64.whl (1.0MB)\n",
      "\u001b[K     |████████████████████████████████| 1.0MB 6.1MB/s eta 0:00:01\n",
      "\u001b[?25hRequirement already satisfied: numpy>=1.15 in /opt/conda/envs/python35-paddle120-env/lib/python3.7/site-packages (from imgaug) (1.16.4)\n",
      "Requirement already satisfied: scipy in /opt/conda/envs/python35-paddle120-env/lib/python3.7/site-packages (from imgaug) (1.3.0)\n",
      "Requirement already satisfied: imageio in /opt/conda/envs/python35-paddle120-env/lib/python3.7/site-packages (from imgaug) (2.6.1)\n",
      "Requirement already satisfied: pytz in /opt/conda/envs/python35-paddle120-env/lib/python3.7/site-packages (from matplotlib) (2019.3)\n",
      "Requirement already satisfied: cycler>=0.10 in /opt/conda/envs/python35-paddle120-env/lib/python3.7/site-packages (from matplotlib) (0.10.0)\n",
      "Requirement already satisfied: python-dateutil>=2.1 in /opt/conda/envs/python35-paddle120-env/lib/python3.7/site-packages (from matplotlib) (2.8.0)\n",
      "Requirement already satisfied: kiwisolver>=1.0.1 in /opt/conda/envs/python35-paddle120-env/lib/python3.7/site-packages (from matplotlib) (1.1.0)\n",
      "Requirement already satisfied: pyparsing!=2.0.4,!=2.1.2,!=2.1.6,>=2.0.1 in /opt/conda/envs/python35-paddle120-env/lib/python3.7/site-packages (from matplotlib) (2.4.2)\n",
      "Requirement already satisfied: setuptools in /opt/conda/envs/python35-paddle120-env/lib/python3.7/site-packages (from python-Levenshtein) (41.4.0)\n",
      "Collecting beautifulsoup4>=4.6.0 (from trdg)\n",
      "\u001b[?25l  Downloading https://mirrors.aliyun.com/pypi/packages/d1/41/e6495bd7d3781cee623ce23ea6ac73282a373088fcd0ddc809a047b18eae/beautifulsoup4-4.9.3-py3-none-any.whl (115kB)\n",
      "\u001b[K     |████████████████████████████████| 122kB 5.3MB/s eta 0:00:01\n",
      "\u001b[?25hRequirement already satisfied: requests>=2.20.0 in /opt/conda/envs/python35-paddle120-env/lib/python3.7/site-packages (from trdg) (2.22.0)\n",
      "Collecting diffimg==0.2.3 (from trdg)\n",
      "  Downloading https://mirrors.aliyun.com/pypi/packages/3d/fa/de925a7c2203b52f007ad6b9cce343c21dbe389a221a4f51f25960c83d8b/diffimg-0.2.3.tar.gz\n",
      "Collecting PyWavelets>=1.1.1 (from scikit-image>=0.14.2->imgaug)\n",
      "\u001b[?25l  Downloading https://mirrors.aliyun.com/pypi/packages/62/bd/592c7242fdd1218a96431512e77265c50812315ef72570ace85e1cfae298/PyWavelets-1.1.1-cp37-cp37m-manylinux1_x86_64.whl (4.4MB)\n",
      "\u001b[K     |████████████████████████████████| 4.4MB 5.3MB/s eta 0:00:01\n",
      "\u001b[?25hCollecting tifffile>=2019.7.26 (from scikit-image>=0.14.2->imgaug)\n",
      "\u001b[?25l  Downloading https://mirrors.aliyun.com/pypi/packages/c0/9b/db2b4777156c755ea589cb93ae50fc12a39119623bd7eca9bb8eaab523fc/tifffile-2021.4.8-py3-none-any.whl (165kB)\n",
      "\u001b[K     |████████████████████████████████| 174kB 6.0MB/s eta 0:00:01\n",
      "\u001b[?25hRequirement already satisfied: networkx>=2.0 in /opt/conda/envs/python35-paddle120-env/lib/python3.7/site-packages (from scikit-image>=0.14.2->imgaug) (2.4)\n",
      "Collecting soupsieve>1.2; python_version >= \"3.0\" (from beautifulsoup4>=4.6.0->trdg)\n",
      "  Downloading https://mirrors.aliyun.com/pypi/packages/36/69/d82d04022f02733bf9a72bc3b96332d360c0c5307096d76f6bb7489f7e57/soupsieve-2.2.1-py3-none-any.whl\n",
      "Requirement already satisfied: idna<2.9,>=2.5 in /opt/conda/envs/python35-paddle120-env/lib/python3.7/site-packages (from requests>=2.20.0->trdg) (2.8)\n",
      "Requirement already satisfied: chardet<3.1.0,>=3.0.2 in /opt/conda/envs/python35-paddle120-env/lib/python3.7/site-packages (from requests>=2.20.0->trdg) (3.0.4)\n",
      "Requirement already satisfied: urllib3!=1.25.0,!=1.25.1,<1.26,>=1.21.1 in /opt/conda/envs/python35-paddle120-env/lib/python3.7/site-packages (from requests>=2.20.0->trdg) (1.25.6)\n",
      "Requirement already satisfied: certifi>=2017.4.17 in /opt/conda/envs/python35-paddle120-env/lib/python3.7/site-packages (from requests>=2.20.0->trdg) (2019.9.11)\n",
      "Requirement already satisfied: decorator>=4.3.0 in /opt/conda/envs/python35-paddle120-env/lib/python3.7/site-packages (from networkx>=2.0->scikit-image>=0.14.2->imgaug) (4.4.0)\n",
      "Building wheels for collected packages: python-Levenshtein, diffimg\n",
      "  Building wheel for python-Levenshtein (setup.py) ... \u001b[?25ldone\n",
      "\u001b[?25h  Created wheel for python-Levenshtein: filename=python_Levenshtein-0.12.2-cp37-cp37m-linux_x86_64.whl size=163167 sha256=ca87f217d3762373296669b6d97a6a0cde1f026d7d1d41a1902b64c35abcbd81\n",
      "  Stored in directory: /home/aistudio/.cache/pip/wheels/37/32/7f/d1b41ce17eb00f23e152a3da3cb4588e094d55b8f1f7d43159\n",
      "  Building wheel for diffimg (setup.py) ... \u001b[?25ldone\n",
      "\u001b[?25h  Created wheel for diffimg: filename=diffimg-0.2.3-cp37-none-any.whl size=4050 sha256=9515c5dbb9b839213018fbee22226477aacd1fe926c468378e02230f8b73c388\n",
      "  Stored in directory: /home/aistudio/.cache/pip/wheels/70/b8/cf/783065bf363fd70e7a5a58dafd8b40667db51a8aa9f8935557\n",
      "Successfully built python-Levenshtein diffimg\n",
      "\u001b[31mERROR: scikit-image 0.18.1 has requirement numpy>=1.16.5, but you'll have numpy 1.16.4 which is incompatible.\u001b[0m\n",
      "\u001b[31mERROR: trdg 1.7.0 has requirement opencv-python>=4.2.0.32, but you'll have opencv-python 4.1.1.26 which is incompatible.\u001b[0m\n",
      "\u001b[31mERROR: trdg 1.7.0 has requirement pillow>=7.0.0, but you'll have pillow 6.2.0 which is incompatible.\u001b[0m\n",
      "Installing collected packages: PyWavelets, tifffile, scikit-image, Shapely, imgaug, lmdb, python-Levenshtein, soupsieve, beautifulsoup4, diffimg, trdg, anyconfig\n",
      "Successfully installed PyWavelets-1.1.1 Shapely-1.7.1 anyconfig-0.10.1 beautifulsoup4-4.9.3 diffimg-0.2.3 imgaug-0.4.0 lmdb-1.2.1 python-Levenshtein-0.12.2 scikit-image-0.18.1 soupsieve-2.2.1 tifffile-2021.4.8 trdg-1.7.0\n"
     ]
    }
   ],
   "source": [
    "!mkdir /home/aistudio/external-libraries\r\n",
    "import sys\r\n",
    "sys.path.append('/home/aistudio/external-libraries')\r\n",
    "! pip install tqdm paddlepaddle-gpu==1.7.1.post97 -i https://mirror.baidu.com/pypi/simple\r\n",
    "! pip install pqi\r\n",
    "! pqi use aliyun\r\n",
    "! pip install tqdm imgaug lmdb matplotlib opencv-python Pillow python-Levenshtein PyYAML trdg anyconfig # -t /home/aistudio/external-libraries"
   ]
  },
  {
   "cell_type": "markdown",
   "metadata": {
    "collapsed": false
   },
   "source": [
    "# 解压文件\n",
    "\n",
    "压缩包内含训练集图片、训练集图片信息、测试集图片"
   ]
  },
  {
   "cell_type": "code",
   "execution_count": null,
   "metadata": {
    "collapsed": false
   },
   "outputs": [],
   "source": [
    "import os\n",
    "os.chdir('/home/aistudio/data/data10879')\n",
    "! tar -zxf train_img.tar.gz\n",
    "! tar -zxf test_img.tar.gz "
   ]
  },
  {
   "cell_type": "code",
   "execution_count": null,
   "metadata": {
    "collapsed": false
   },
   "outputs": [
    {
     "name": "stdout",
     "output_type": "stream",
     "text": [
      "unzip:  cannot find or open /home/aistudio/data/data10879/test_images.zip, /home/aistudio/data/data10879/test_images.zip.zip or /home/aistudio/data/data10879/test_images.zip.ZIP.\r\n"
     ]
    }
   ],
   "source": [
    "! unzip -oq /home/aistudio/data/data10879/test_images.zip -d /home/aistudio/data/data10879"
   ]
  },
  {
   "cell_type": "code",
   "execution_count": null,
   "metadata": {
    "collapsed": false
   },
   "outputs": [],
   "source": [
    "train_opt = {\n",
    "    \"input_size\": [1, 48, 256],\n",
    "    \"data_dir\": \"data/data10879\",\n",
    "    \"train_dir\": \"train_images\",\n",
    "    \"train_list\": \"train.txt\",\n",
    "    \"label_list\": \"label_list.txt\",\n",
    "    \"class_dim\": -1,    # 样本数量 21W\n",
    "    \"label_dic\": {},    \n",
    "    \"n_im\": -1,    # 标签数量 3800+\n",
    "    \"continue_train\": False,\n",
    "    \"save_model_dir\": \"work/crnn_model\",\n",
    "    \"num_epochs\": 120,\n",
    "    \"train_batch_size\": 64,\n",
    "    \"mean_color\": 127.0,\n",
    "    \"multi_data_reader_count\": 4,\n",
    "    \"apply_distort\": True,\n",
    "    \"image_distort_strategy\": {\n",
    "        \"expand_prob\": 0.3,\n",
    "        \"expand_max_ratio\": 2.0,\n",
    "        \"hue_prob\": 0.5,\n",
    "        \"hue_delta\": 48,\n",
    "        \"contrast_prob\": 0.5,\n",
    "        \"contrast_delta\": 0.3,\n",
    "        \"saturation_prob\": 0.5,\n",
    "        \"saturation_delta\": 0.3,\n",
    "        \"brightness_prob\": 0.5,\n",
    "        \"brightness_delta\": 0.3,\n",
    "    },\n",
    "    \"optimizer_strategy\": {\n",
    "        \"learning_rate\": 0.001,\n",
    "        \"momentum\": 0.9,\n",
    "        \"lr_epochs\": [40, 80],\n",
    "        \"lr_decay\": [1, 0.5, 0.1],\n",
    "    },\n",
    "}"
   ]
  },
  {
   "cell_type": "markdown",
   "metadata": {
    "collapsed": false
   },
   "source": [
    "### 对数据进行扩充，增加训练数据。"
   ]
  },
  {
   "cell_type": "code",
   "execution_count": null,
   "metadata": {
    "collapsed": false
   },
   "outputs": [],
   "source": [
    "import numpy as np\n",
    "import random\n",
    "import cv2 as cv    # 导入opencv-python模块，opencv是一个强大的图像处理和计算机视觉库\n",
    "from PIL import Image, ImageEnhance, ImageDraw    # python图像处理库\n",
    "import matplotlib.pyplot as plt\n",
    "\n",
    "\n",
    "def random_brightness(img):\n",
    "    # 随机亮度可以改成固定亮度\n",
    "    prob = np.random.uniform(0, 1)\n",
    "    if prob < train_opt['image_distort_strategy']['brightness_prob']:\n",
    "        brightness_delta = train_opt['image_distort_strategy']['brightness_delta']\n",
    "        delta = np.random.uniform(-brightness_delta, brightness_delta) + 1\n",
    "        img = ImageEnhance.Brightness(img).enhance(delta)\n",
    "    return img\n",
    "\n",
    "\n",
    "def random_contrast(img):\n",
    "    # 随机对比度可以改成固定对比度\n",
    "    prob = np.random.uniform(0, 1)\n",
    "    if prob < train_opt['image_distort_strategy']['contrast_prob']:\n",
    "        contrast_delta = train_opt['image_distort_strategy']['contrast_delta']\n",
    "        delta = np.random.uniform(-contrast_delta, contrast_delta) + 1\n",
    "        img = ImageEnhance.Contrast(img).enhance(delta)\n",
    "    return img\n",
    "\n",
    "\n",
    "def random_saturation(img):\n",
    "    # 随机饱和度可以改成固定饱和度\n",
    "    prob = np.random.uniform(0, 1)\n",
    "    if prob < train_opt['image_distort_strategy']['saturation_prob']:\n",
    "        saturation_delta = train_opt['image_distort_strategy']['saturation_delta']\n",
    "        delta = np.random.uniform(-saturation_delta, saturation_delta) + 1\n",
    "        img = ImageEnhance.Color(img).enhance(delta)\n",
    "    return img\n",
    "\n",
    "\n",
    "def random_hue(img):\n",
    "    '''\n",
    "    色调H  从红色开始，逆时针方向，绿色120°，蓝色240°；黄色60°，青色180°，品红300°    “红橙黄绿青蓝紫”\n",
    "    饱和度S  0%--100%，饱和度越高颜色越鲜艳\n",
    "    明度V  0%--100%  从黑到白\n",
    "    '''\n",
    "    # 随机色彩可以改成黑白  img = img.convert(\"L\")\n",
    "    prob = np.random.uniform(0, 1)\n",
    "    if prob < train_opt['image_distort_strategy']['hue_prob']:\n",
    "        hue_delta = train_opt['image_distort_strategy']['hue_delta']\n",
    "        delta = np.random.uniform(-hue_delta, hue_delta)\n",
    "        img_hsv = np.array(img.convert('HSV'))\n",
    "        img_hsv[:, :, 0] = img_hsv[:, :, 0] + delta    # 以蓝色为基础，+85变成红色，+170变成绿色\n",
    "        img = Image.fromarray(img_hsv, mode='HSV').convert('RGB')\n",
    "    return img\n",
    "    \n",
    "\n",
    "def distort_image(img):\n",
    "    prob = np.random.uniform(0, 1)\n",
    "    # Apply different distort order\n",
    "    # 可以删去，改成固定值\n",
    "    if prob > 0.5:\n",
    "        img = random_brightness(img) \n",
    "        img = random_contrast(img)\n",
    "        img = random_saturation(img)\n",
    "        img = random_hue(img)\n",
    "    else:\n",
    "        img = random_brightness(img)\n",
    "        img = random_saturation(img)\n",
    "        img = random_hue(img)\n",
    "        img = random_contrast(img)\n",
    "    return img\n",
    "\n",
    "\n",
    "def rotate_image(img):\n",
    "    \"\"\"\n",
    "    图像增强，增加随机旋转角度\n",
    "    \"\"\"\n",
    "    prob = np.random.uniform(0, 1)\n",
    "    if prob > 0.:\n",
    "        angle = np.random.randint(-8, 8)\n",
    "        img = img.convert('RGBA')\n",
    "        img = img.rotate(angle, resample=Image.BILINEAR, expand=0)    # expand=True,保证旋转后图片的完整性\n",
    "        fff = Image.new('RGBA', img.size, (127, 127, 127, 127))\n",
    "        # 使用mask混合img1和img2\n",
    "        # 若mask'mode为\"L\"，当L=255时全部显示img1，L=0时全部显示img2\n",
    "        # 如果用灰色来混合原图，不如直接将原图转换成8位黑白格式\n",
    "        img = Image.composite(img, fff, mask=img).convert('RGB')    # composite()要在\"RGBA\"下操作\n",
    "    return img\n",
    "\n",
    "\n",
    "def random_expand(img, keep_ratio=True):\n",
    "    '''\n",
    "    这一步可以删去\n",
    "    '''\n",
    "    if np.random.uniform(0, 1) < train_opt['image_distort_strategy']['expand_prob']:\n",
    "        return img\n",
    "\n",
    "    max_ratio = train_opt['image_distort_strategy']['expand_max_ratio']\n",
    "    w, h = img.size\n",
    "    c = 3\n",
    "    ratio_x = random.uniform(1, max_ratio)\n",
    "    # 改成x和y同时放大\n",
    "    if keep_ratio:\n",
    "        ratio_y = ratio_x\n",
    "    else:\n",
    "        ratio_y = random.uniform(1, max_ratio)\n",
    "    oh = int(h * ratio_y)\n",
    "    ow = int(w * ratio_x)\n",
    "    # off_x, off_y  图像左上角在out_img的位置\n",
    "    off_x = random.randint(0, ow - w)    \n",
    "    off_y = random.randint(0, oh - h)\n",
    "\n",
    "    out_img = np.zeros((oh, ow, c), np.uint8)\n",
    "    for i in range(c):\n",
    "        out_img[:, :, i] = train_opt['mean_color']\n",
    "    \n",
    "    # 这一步可能需要重新检测图像\n",
    "    out_img[off_y: off_y + h, off_x: off_x + w, :] = img\n",
    "\n",
    "    return Image.fromarray(out_img)\n",
    "\n",
    "\n",
    "def preprocess(img):\n",
    "    if train_opt['apply_distort']:\n",
    "        img = distort_image(img)\n",
    "    img_m = np.mean(img.convert('L'))\n",
    "    img_std = max(np.std(img.convert('L')), 1e-2)\n",
    "    # if train_opt['apply_distort']:\n",
    "    #     img = random_expand(img)\n",
    "    img = img.convert('L')\n",
    "\n",
    "    return img"
   ]
  },
  {
   "cell_type": "code",
   "execution_count": null,
   "metadata": {
    "collapsed": false
   },
   "outputs": [],
   "source": [
    "import os\n",
    "os.mkdir('/home/aistudio/data/data10879/train_images_tmp/')\n",
    "filePath = '/home/aistudio/data/data10879/train_images_tmp'\n",
    "for f in os.listdir(filePath):\n",
    "    path = '/home/aistudio/data/data10879/train_images_tmp/'+f\n",
    "    img = Image.open(path)\n",
    "    if img.mode != 'RGB':    # 可以改成 'L'\n",
    "        img = img.convert('RGB')\n",
    "    # 图像增广并标准化\n",
    "    img = preprocess(img)\n",
    "    target = '/home/aistudio/data/data10879/train_images_tmp/'+f\n",
    "    img.save(target)"
   ]
  },
  {
   "cell_type": "markdown",
   "metadata": {
    "collapsed": false
   },
   "source": [
    "# 预处理\n",
    "\n",
    "* 文件 langconv(language convert)，这个文件用来把繁体字转成简体字<br>\n",
    "\n",
    "* 函数 read_ims_list：读取train.list文件，生成图片的信息字典\n",
    "* 函数 modify_ch：对标签label进行修改，进行四项操作，分别是“繁体->简体”、“大写->小写”、“删除空格”、“删除符号”。\n",
    "* 函数 pipeline：调用定义的函数，对训练数据进行初步处理。"
   ]
  },
  {
   "cell_type": "code",
   "execution_count": null,
   "metadata": {
    "collapsed": false
   },
   "outputs": [
    {
     "name": "stdout",
     "output_type": "stream",
     "text": [
      "class num: 3827\n",
      "训练集数量: 200342, 验证集数量: 10544\n"
     ]
    }
   ],
   "source": [
    "from work.langconv import Converter\n",
    "import codecs\n",
    "import random\n",
    "import sys\n",
    "import os\n",
    "from os.path import join as pjoin\n",
    "\n",
    "os.chdir('/home/aistudio')\n",
    "sys.path.append('/home/aistudio/work')\n",
    "def read_ims_list(path_ims_list):\n",
    "    \"\"\"\n",
    "    读取 train.list 文件\n",
    "    \"\"\"\n",
    "    ims_info_dic = {}\n",
    "    with open(path_ims_list, 'r', encoding='utf-8') as f:\n",
    "        for line in f:\n",
    "            parts = line.strip().split(maxsplit=3)\n",
    "            w, h, file, label = parts[0], parts[1], parts[2], parts[3]\n",
    "            ims_info_dic[file] = {'label': label, 'w': int(w)}\n",
    "    return ims_info_dic\n",
    "    \n",
    "\n",
    "def modify_ch(label):\n",
    "    # 繁体 -> 简体\n",
    "    label = Converter(\"zh-hans\").convert(label)\n",
    "\n",
    "    # 大写 -> 小写\n",
    "    label = label.lower()\n",
    "\n",
    "    # 删除空格\n",
    "    label = label.replace(' ', '')\n",
    "\n",
    "    # 删除符号\n",
    "    for ch in label:\n",
    "        if (not '\\u4e00' <= ch <= '\\u9fff') and (not ch.isalnum()):\n",
    "            label = label.replace(ch, '')\n",
    "\n",
    "    return label\n",
    "\n",
    "def save_txt(data, file_path):\n",
    "    \"\"\"\n",
    "    将一个list的数组写入txt文件里\n",
    "    :param data:\n",
    "    :param file_path:\n",
    "    :return:\n",
    "    \"\"\"\n",
    "    if not isinstance(data, list):\n",
    "        data = [data]\n",
    "    with open(file_path, mode='w', encoding='utf8') as f:\n",
    "        f.write('\\n'.join(data))\n",
    "\n",
    "def pipeline(dataset_dir):\n",
    "    path_ims        = pjoin(dataset_dir, \"train_images\")\n",
    "    path_ims_list   = pjoin(dataset_dir, \"train.list\")\n",
    "    path_train_list = pjoin('/home/aistudio/work', \"train.txt\")\n",
    "    path_test_list  = pjoin('/home/aistudio/work', \"test.txt\")\n",
    "    path_label_list = pjoin('/home/aistudio/work', \"dict.txt\")\n",
    "\n",
    "    # 读取数据信息\n",
    "    file_info_dic = read_ims_list(path_ims_list)\n",
    "\n",
    "    # 创建 train.txt\n",
    "    class_set = set()\n",
    "    data_list = []\n",
    "    for file, info in file_info_dic.items():\n",
    "        label = info['label']\n",
    "        label = modify_ch(label)\n",
    "\n",
    "        # 异常: 标签为空\n",
    "        if label == '':\n",
    "            continue\n",
    "\n",
    "        for e in label:\n",
    "            class_set.add(e)\n",
    "        data_list.append(\"{0}\\t{1}\".format(pjoin('/home/aistudio/',path_ims, file), label))\n",
    "        \n",
    "    # 创建 label_list.txt\n",
    "    class_list = list(class_set)\n",
    "    class_list.sort()\n",
    "    print(\"class num: {0}\".format(len(class_list)))\n",
    "    with codecs.open(path_label_list, \"w\", encoding='utf-8') as label_list:\n",
    "        for id, c in enumerate(class_list):\n",
    "            # label_list.write(\"{0}\\t{1}\\n\".format(c, id))\n",
    "            label_list.write(\"{0}\\n\".format(c))\n",
    "\n",
    "    # 随机切分\n",
    "    random.shuffle(data_list)\n",
    "    val_len = int(len(data_list) * 0.05)\n",
    "    val_list = data_list[-val_len:]\n",
    "    train_list = data_list[:-val_len]\n",
    "    print('训练集数量: {}, 验证集数量: {}'.format(len(train_list),len(val_list)))\n",
    "    save_txt(train_list,path_train_list)\n",
    "    save_txt(val_list,path_test_list)\n",
    "    \n",
    "random.seed(0)\n",
    "pipeline(dataset_dir=\"data/data10879\")"
   ]
  },
  {
   "cell_type": "code",
   "execution_count": null,
   "metadata": {
    "collapsed": false
   },
   "outputs": [
    {
     "name": "stdout",
     "output_type": "stream",
     "text": [
      "/home/aistudio/work/PaddleOCR\r\n"
     ]
    }
   ],
   "source": [
    "os.chdir('/home/aistudio/work/PaddleOCR/')\r\n",
    "!pwd"
   ]
  },
  {
   "cell_type": "markdown",
   "metadata": {
    "collapsed": false
   },
   "source": [
    "# 模型训练"
   ]
  },
  {
   "cell_type": "code",
   "execution_count": 23,
   "metadata": {
    "collapsed": false
   },
   "outputs": [
    {
     "name": "stdout",
     "output_type": "stream",
     "text": [
      "2021-05-06 20:17:35,324-INFO: {'Global': {'algorithm': 'CRNN', 'use_gpu': True, 'epoch_num': 200, 'log_smooth_window': 20, 'print_batch_step': 100, 'save_model_dir': 'output/rec_CRNN_aug_341', 'save_epoch_step': 1, 'eval_batch_step': 1800, 'train_batch_size_per_card': 256, 'test_batch_size_per_card': 128, 'image_shape': [3, 32, 256], 'max_text_length': 64, 'character_type': 'ch', 'loss_type': 'ctc', 'reader_yml': './configs/rec/rec_icdar15_reader.yml', 'pretrain_weights': '/home/aistudio/work/PaddleOCR/model/latest', 'checkpoints': None, 'save_inference_dir': '/home/aistudio/work/test', 'character_dict_path': '/home/aistudio/work/dict.txt'}, 'Architecture': {'function': 'ppocr.modeling.architectures.rec_model,RecModel'}, 'Backbone': {'function': 'ppocr.modeling.backbones.rec_resnet_vd,ResNet', 'layers': 34}, 'Head': {'function': 'ppocr.modeling.heads.rec_ctc_head,CTCPredict', 'encoder_type': 'rnn', 'SeqRNN': {'hidden_size': 256}}, 'Loss': {'function': 'ppocr.modeling.losses.rec_ctc_loss,CTCLoss'}, 'Optimizer': {'function': 'ppocr.optimizer,AdamDecay', 'base_lr': 1e-05, 'beta1': 0.9, 'beta2': 0.999}, 'TrainReader': {'reader_function': 'ppocr.data.rec.dataset_traversal,SimpleReader', 'num_workers': 8, 'img_set_dir': '/', 'label_file_path': '/home/aistudio/work/train.txt'}, 'EvalReader': {'reader_function': 'ppocr.data.rec.dataset_traversal,SimpleReader', 'img_set_dir': '/', 'label_file_path': '/home/aistudio/work/test.txt'}, 'TestReader': {'reader_function': 'ppocr.data.rec.dataset_traversal,SimpleReader', 'infer_img': '/home/aistudio/data/data10879/test_images'}}\n",
      "import ujson error: No module named 'ujson' use json\n",
      "2021-05-06 20:17:38,587-INFO: places would be ommited when DataLoader is not iterable\n",
      "W0506 20:17:39.283407  1937 device_context.cc:237] Please NOTE: device: 0, CUDA Capability: 70, Driver API Version: 11.0, Runtime API Version: 9.0\n",
      "W0506 20:17:39.287855  1937 device_context.cc:245] device: 0, cuDNN Version: 7.3.\n",
      "2021-05-06 20:17:40,327-INFO: Loading parameters from /home/aistudio/work/PaddleOCR/model/latest...\n",
      "2021-05-06 20:17:41,396-INFO: Finish initing model from /home/aistudio/work/PaddleOCR/model/latest\n",
      "I0506 20:17:41.418874  1937 parallel_executor.cc:440] The Program will be executed on CUDA using ParallelExecutor, 1 cards are used, so 1 programs are executed in parallel.\n",
      "I0506 20:17:41.442791  1937 build_strategy.cc:365] SeqOnlyAllReduceOps:0, num_trainers:1\n",
      "I0506 20:17:41.473950  1937 parallel_executor.cc:307] Inplace strategy is enabled, when build_strategy.enable_inplace = True\n",
      "I0506 20:17:41.489111  1937 parallel_executor.cc:375] Garbage collection strategy is enabled, when FLAGS_eager_delete_tensor_gb = 0\n"
     ]
    }
   ],
   "source": [
    "! export PYTHONPATH=$PYTHONPATH:.\r\n",
    "! python3 tools/train.py -c configs/rec/rec_r34_vd_none_bilstm_ctc.yml"
   ]
  },
  {
   "cell_type": "markdown",
   "metadata": {
    "collapsed": false
   },
   "source": [
    "# 模型预测"
   ]
  },
  {
   "cell_type": "code",
   "execution_count": null,
   "metadata": {
    "collapsed": false
   },
   "outputs": [],
   "source": [
    "!pwd"
   ]
  },
  {
   "cell_type": "code",
   "execution_count": null,
   "metadata": {
    "collapsed": false
   },
   "outputs": [
    {
     "name": "stdout",
     "output_type": "stream",
     "text": [
      "2021-05-06 20:07:34,311-INFO: {'Global': {'algorithm': 'CRNN', 'use_gpu': True, 'epoch_num': 200, 'log_smooth_window': 20, 'print_batch_step': 100, 'save_model_dir': 'output/rec_CRNN_aug_341', 'save_epoch_step': 1, 'eval_batch_step': 1800, 'train_batch_size_per_card': 256, 'test_batch_size_per_card': 128, 'image_shape': [3, 32, 256], 'max_text_length': 64, 'character_type': 'ch', 'loss_type': 'ctc', 'reader_yml': './configs/rec/rec_icdar15_reader.yml', 'pretrain_weights': '/home/aistudio/work/PaddleOCR/model/latest', 'checkpoints': 'output/rec_CRNN_aug_341/best_accuracy', 'save_inference_dir': '/home/aistudio/work/test', 'character_dict_path': '/home/aistudio/work/dict.txt'}, 'Architecture': {'function': 'ppocr.modeling.architectures.rec_model,RecModel'}, 'Backbone': {'function': 'ppocr.modeling.backbones.rec_resnet_vd,ResNet', 'layers': 34}, 'Head': {'function': 'ppocr.modeling.heads.rec_ctc_head,CTCPredict', 'encoder_type': 'rnn', 'SeqRNN': {'hidden_size': 256}}, 'Loss': {'function': 'ppocr.modeling.losses.rec_ctc_loss,CTCLoss'}, 'Optimizer': {'function': 'ppocr.optimizer,AdamDecay', 'base_lr': 1e-05, 'beta1': 0.9, 'beta2': 0.999}, 'TrainReader': {'reader_function': 'ppocr.data.rec.dataset_traversal,SimpleReader', 'num_workers': 8, 'img_set_dir': '/', 'label_file_path': '/home/aistudio/work/train.txt'}, 'EvalReader': {'reader_function': 'ppocr.data.rec.dataset_traversal,SimpleReader', 'img_set_dir': '/', 'label_file_path': '/home/aistudio/work/test.txt'}, 'TestReader': {'reader_function': 'ppocr.data.rec.dataset_traversal,SimpleReader', 'infer_img': '/home/aistudio/data/data10879/test_images'}}\n",
      "W0506 20:07:35.204334  1393 device_context.cc:237] Please NOTE: device: 0, CUDA Capability: 70, Driver API Version: 11.0, Runtime API Version: 9.0\n",
      "W0506 20:07:35.208246  1393 device_context.cc:245] device: 0, cuDNN Version: 7.3.\n",
      "2021-05-06 20:07:37,037-INFO: Finish initing model from output/rec_CRNN_aug_341/best_accuracy\n",
      "  0%|                                       | 145/76602 [00:04<37:48, 33.70it/s]^C\n",
      "pid 1393 terminated, terminate group 1392...\n"
     ]
    }
   ],
   "source": [
    "! python3 tools/infer_rec.py -c configs/rec/rec_r34_vd_none_bilstm_ctc.yml -o Global.checkpoints=output/rec_CRNN_aug_341/best_accuracy"
   ]
  },
  {
   "cell_type": "code",
   "execution_count": null,
   "metadata": {
    "collapsed": false
   },
   "outputs": [],
   "source": []
  }
 ],
 "metadata": {
  "kernelspec": {
   "display_name": "PaddlePaddle 1.6.2 (Python 3.5)",
   "language": "python",
   "name": "py35-paddle1.2.0"
  },
  "language_info": {
   "codemirror_mode": {
    "name": "ipython",
    "version": 3
   },
   "file_extension": ".py",
   "mimetype": "text/x-python",
   "name": "python",
   "nbconvert_exporter": "python",
   "pygments_lexer": "ipython3",
   "version": "3.7.4"
  }
 },
 "nbformat": 4,
 "nbformat_minor": 1
}
